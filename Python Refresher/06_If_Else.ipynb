{
 "cells": [
  {
   "cell_type": "code",
   "execution_count": 1,
   "id": "abf1fecc-4bd0-43ab-8ca9-95b826081f69",
   "metadata": {},
   "outputs": [],
   "source": [
    "a = 400"
   ]
  },
  {
   "cell_type": "code",
   "execution_count": 2,
   "id": "1882584d-ffe9-4afa-a777-1e4c07e5f5a6",
   "metadata": {},
   "outputs": [
    {
     "name": "stdout",
     "output_type": "stream",
     "text": [
      "Hello\n"
     ]
    }
   ],
   "source": [
    "if(a>53):\n",
    "    print(\"Hello\")\n",
    "else:\n",
    "    print(\"Yello\")"
   ]
  },
  {
   "cell_type": "code",
   "execution_count": 3,
   "id": "2d114b44-b32b-47c4-9ed8-e9f86eeb8d4e",
   "metadata": {},
   "outputs": [
    {
     "name": "stdout",
     "output_type": "stream",
     "text": [
      ">30\n"
     ]
    }
   ],
   "source": [
    "a = 40\n",
    "if a>50:\n",
    "    print(\">50\")\n",
    "elif a>40:\n",
    "    print(\">40\")\n",
    "elif a>30:\n",
    "    print(\">30\")\n",
    "else:\n",
    "    print(\"<=30\")"
   ]
  },
  {
   "cell_type": "code",
   "execution_count": 4,
   "id": "3cec4051-fabd-4e78-b9ce-a0c0136d7d5a",
   "metadata": {},
   "outputs": [],
   "source": [
    "def avg(a, b=1):\n",
    "    return (a+b)/2"
   ]
  },
  {
   "cell_type": "code",
   "execution_count": 5,
   "id": "95189ea2-0e2a-40c8-804c-e12be11226cb",
   "metadata": {},
   "outputs": [
    {
     "data": {
      "text/plain": [
       "2.5"
      ]
     },
     "execution_count": 5,
     "metadata": {},
     "output_type": "execute_result"
    }
   ],
   "source": [
    "avg(4,6)\n",
    "avg(4)"
   ]
  },
  {
   "cell_type": "code",
   "execution_count": null,
   "id": "ecec45a8-b4a9-4f3b-b9d0-517ae2c2ab18",
   "metadata": {},
   "outputs": [],
   "source": []
  }
 ],
 "metadata": {
  "kernelspec": {
   "display_name": "Python 3 (ipykernel)",
   "language": "python",
   "name": "python3"
  },
  "language_info": {
   "codemirror_mode": {
    "name": "ipython",
    "version": 3
   },
   "file_extension": ".py",
   "mimetype": "text/x-python",
   "name": "python",
   "nbconvert_exporter": "python",
   "pygments_lexer": "ipython3",
   "version": "3.13.2"
  }
 },
 "nbformat": 4,
 "nbformat_minor": 5
}
