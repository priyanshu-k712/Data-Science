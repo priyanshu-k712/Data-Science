{
 "cells": [
  {
   "cell_type": "code",
   "execution_count": 1,
   "id": "3c831192-05fb-4bf9-9bbb-4aa0412b3fa2",
   "metadata": {},
   "outputs": [
    {
     "name": "stdout",
     "output_type": "stream",
     "text": [
      "Name is Harry\n",
      "Company is HP\n",
      "Salary is 47000\n"
     ]
    }
   ],
   "source": [
    "class Employee:\n",
    "    company = \"HP\"\n",
    "    def __init__(self, name, salary):\n",
    "        self.name = name\n",
    "        self.salary = salary\n",
    "    def printDetails(self):\n",
    "        print(f\"Name is {self.name}\")\n",
    "        print(f\"Company is {self.company}\")\n",
    "        print(f\"Salary is {self.salary}\")\n",
    "\n",
    "e = Employee(\"Harry\", 47000)\n",
    "e.printDetails()"
   ]
  },
  {
   "cell_type": "code",
   "execution_count": 2,
   "id": "4b1978b0-52ba-4d95-b2e7-d17266e07052",
   "metadata": {},
   "outputs": [
    {
     "name": "stdout",
     "output_type": "stream",
     "text": [
      "Name is Harry\n",
      "Company is HP\n",
      "Salary is 47000\n",
      "The time is now\n",
      "The company name is HP\n"
     ]
    }
   ],
   "source": [
    "class Employee:\n",
    "    company = \"HP\"\n",
    "    def __init__(self, name, salary):\n",
    "        self.name = name\n",
    "        self.salary = salary\n",
    "    def printDetails(self):\n",
    "        print(f\"Name is {self.name}\")\n",
    "        print(f\"Company is {self.company}\")\n",
    "        print(f\"Salary is {self.salary}\")\n",
    "    @staticmethod # If i removed this the printTime wont work  it states that this method wont use any class attributes and can run without taking self as an argument\n",
    "    def printTime():\n",
    "        print(\"The time is now\")\n",
    "    @classmethod #It can  only use the class variables which here is comapny name set as HP. We cant use name or salary or any other variables.\n",
    "    def printClassDetails(cls):\n",
    "        print(f\"The company name is {cls.company}\")\n",
    "e = Employee(\"Harry\", 47000)\n",
    "e.printDetails()\n",
    "e.printTime()\n",
    "e.printClassDetails()"
   ]
  },
  {
   "cell_type": "code",
   "execution_count": null,
   "id": "422ba867-5671-492a-ac25-f51407fa11f0",
   "metadata": {},
   "outputs": [],
   "source": []
  }
 ],
 "metadata": {
  "kernelspec": {
   "display_name": "Python 3 (ipykernel)",
   "language": "python",
   "name": "python3"
  },
  "language_info": {
   "codemirror_mode": {
    "name": "ipython",
    "version": 3
   },
   "file_extension": ".py",
   "mimetype": "text/x-python",
   "name": "python",
   "nbconvert_exporter": "python",
   "pygments_lexer": "ipython3",
   "version": "3.13.2"
  }
 },
 "nbformat": 4,
 "nbformat_minor": 5
}
