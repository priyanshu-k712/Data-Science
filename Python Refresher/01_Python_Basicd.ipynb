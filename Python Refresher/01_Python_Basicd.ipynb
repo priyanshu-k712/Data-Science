{
 "cells": [
  {
   "cell_type": "code",
   "execution_count": 1,
   "id": "716ec724-5e77-4279-90a6-074b847d725e",
   "metadata": {},
   "outputs": [],
   "source": [
    "a=5"
   ]
  },
  {
   "cell_type": "code",
   "execution_count": 2,
   "id": "02b65cde-a804-4365-ba2a-aac297f74d3f",
   "metadata": {},
   "outputs": [],
   "source": [
    "b = 32"
   ]
  },
  {
   "cell_type": "code",
   "execution_count": 3,
   "id": "015006cc-2b43-438f-bf87-d330ba24009b",
   "metadata": {},
   "outputs": [
    {
     "data": {
      "text/plain": [
       "37"
      ]
     },
     "execution_count": 3,
     "metadata": {},
     "output_type": "execute_result"
    }
   ],
   "source": [
    "a+b"
   ]
  },
  {
   "cell_type": "code",
   "execution_count": 4,
   "id": "2673f25d-59f7-474d-85dc-6b96cc3a8bb7",
   "metadata": {},
   "outputs": [],
   "source": [
    "name = \"Harry\" #iT PRINTS hELLO wOLRD"
   ]
  },
  {
   "cell_type": "code",
   "execution_count": 5,
   "id": "7f835a2c-1a4a-4bb7-aaa1-abe1a95308ff",
   "metadata": {},
   "outputs": [
    {
     "name": "stdout",
     "output_type": "stream",
     "text": [
      "Harry\n"
     ]
    }
   ],
   "source": [
    "print(name)"
   ]
  },
  {
   "cell_type": "code",
   "execution_count": 6,
   "id": "2b1db0bc-0af1-40c4-8b0b-d4226d511b2b",
   "metadata": {},
   "outputs": [
    {
     "name": "stdout",
     "output_type": "stream",
     "text": [
      "<class 'int'>\n"
     ]
    }
   ],
   "source": [
    "print(type(a))"
   ]
  },
  {
   "cell_type": "code",
   "execution_count": 7,
   "id": "d81aa723-712a-4e3f-84e9-842e0047c147",
   "metadata": {},
   "outputs": [
    {
     "name": "stdout",
     "output_type": "stream",
     "text": [
      "<class 'str'>\n"
     ]
    }
   ],
   "source": [
    "print(type(name))"
   ]
  },
  {
   "cell_type": "code",
   "execution_count": 8,
   "id": "7e520227-deef-4294-ae3f-e5985b8b4a9b",
   "metadata": {},
   "outputs": [
    {
     "data": {
      "text/plain": [
       "str"
      ]
     },
     "execution_count": 8,
     "metadata": {},
     "output_type": "execute_result"
    }
   ],
   "source": [
    "type(name)"
   ]
  },
  {
   "cell_type": "code",
   "execution_count": 9,
   "id": "5582c879-a646-49e6-b2de-b39da45791a0",
   "metadata": {},
   "outputs": [],
   "source": [
    "a = \"5677\""
   ]
  },
  {
   "cell_type": "code",
   "execution_count": 10,
   "id": "be901a9b-dcd6-467d-8de3-74f18d17465e",
   "metadata": {},
   "outputs": [],
   "source": [
    "b = \"6877\""
   ]
  },
  {
   "cell_type": "code",
   "execution_count": 11,
   "id": "4f56342c-ca5b-49f2-afb8-e909c9406dba",
   "metadata": {},
   "outputs": [
    {
     "name": "stdout",
     "output_type": "stream",
     "text": [
      "56776877\n"
     ]
    }
   ],
   "source": [
    "print(a+b)"
   ]
  },
  {
   "cell_type": "code",
   "execution_count": 12,
   "id": "60eeb6d5-0fd2-4d6a-bdd0-c93b6532954d",
   "metadata": {},
   "outputs": [
    {
     "name": "stdout",
     "output_type": "stream",
     "text": [
      "12554\n"
     ]
    }
   ],
   "source": [
    "print(int(a)+int(b)) #Typr Casting"
   ]
  },
  {
   "cell_type": "code",
   "execution_count": null,
   "id": "23c56dfe-59f2-4cf4-bd98-2aabdb866bca",
   "metadata": {},
   "outputs": [],
   "source": []
  }
 ],
 "metadata": {
  "kernelspec": {
   "display_name": "Python 3 (ipykernel)",
   "language": "python",
   "name": "python3"
  },
  "language_info": {
   "codemirror_mode": {
    "name": "ipython",
    "version": 3
   },
   "file_extension": ".py",
   "mimetype": "text/x-python",
   "name": "python",
   "nbconvert_exporter": "python",
   "pygments_lexer": "ipython3",
   "version": "3.13.2"
  }
 },
 "nbformat": 4,
 "nbformat_minor": 5
}
