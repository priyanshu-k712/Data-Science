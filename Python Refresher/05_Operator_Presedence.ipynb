{
 "cells": [
  {
   "cell_type": "markdown",
   "id": "e7a70289-2790-4213-acc8-72cc744fc4ea",
   "metadata": {},
   "source": [
    "**Works as PEMDAS**\n",
    "*Paranthesis*\n",
    "*Exponents*\n",
    "*Multiplications or Division*\n",
    "*Addition or Subtraction*"
   ]
  },
  {
   "cell_type": "code",
   "execution_count": 1,
   "id": "e4a2a33e-ddf7-416d-b543-9f6afdf67904",
   "metadata": {},
   "outputs": [],
   "source": [
    "result = 10 + 2 * 3"
   ]
  },
  {
   "cell_type": "code",
   "execution_count": 2,
   "id": "3116fc3e-798e-49e9-b48c-71ce2e0144ff",
   "metadata": {},
   "outputs": [
    {
     "data": {
      "text/plain": [
       "16"
      ]
     },
     "execution_count": 2,
     "metadata": {},
     "output_type": "execute_result"
    }
   ],
   "source": [
    "result"
   ]
  },
  {
   "cell_type": "code",
   "execution_count": 3,
   "id": "d03f17f9-1c57-4b41-b080-46b4b756a235",
   "metadata": {},
   "outputs": [
    {
     "data": {
      "text/plain": [
       "36"
      ]
     },
     "execution_count": 3,
     "metadata": {},
     "output_type": "execute_result"
    }
   ],
   "source": [
    "result = (10 + 2) *3\n",
    "result"
   ]
  },
  {
   "cell_type": "code",
   "execution_count": 5,
   "id": "6e288cc5-7f4c-460a-95aa-8bac12edd8c5",
   "metadata": {},
   "outputs": [
    {
     "data": {
      "text/plain": [
       "512"
      ]
     },
     "execution_count": 5,
     "metadata": {},
     "output_type": "execute_result"
    }
   ],
   "source": [
    "result = 2**3**2\n",
    "result"
   ]
  },
  {
   "cell_type": "code",
   "execution_count": 6,
   "id": "affdd9d7-d7c4-4421-a358-8a05bfa00c0a",
   "metadata": {},
   "outputs": [
    {
     "data": {
      "text/plain": [
       "-20.956521739130434"
      ]
     },
     "execution_count": 6,
     "metadata": {},
     "output_type": "execute_result"
    }
   ],
   "source": [
    "54*3/23+4-2**5"
   ]
  },
  {
   "cell_type": "code",
   "execution_count": null,
   "id": "c323f82e-70c8-49b4-bd75-212b64911c63",
   "metadata": {},
   "outputs": [],
   "source": []
  }
 ],
 "metadata": {
  "kernelspec": {
   "display_name": "Python 3 (ipykernel)",
   "language": "python",
   "name": "python3"
  },
  "language_info": {
   "codemirror_mode": {
    "name": "ipython",
    "version": 3
   },
   "file_extension": ".py",
   "mimetype": "text/x-python",
   "name": "python",
   "nbconvert_exporter": "python",
   "pygments_lexer": "ipython3",
   "version": "3.13.2"
  }
 },
 "nbformat": 4,
 "nbformat_minor": 5
}
