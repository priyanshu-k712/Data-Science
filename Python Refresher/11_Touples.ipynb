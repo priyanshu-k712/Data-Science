{
 "cells": [
  {
   "cell_type": "markdown",
   "id": "c9fb6ea0-67a3-452c-a9b7-2d10564fd211",
   "metadata": {},
   "source": [
    "**A Touple is immutable list**"
   ]
  },
  {
   "cell_type": "code",
   "execution_count": 1,
   "id": "f1bdbe21-bd2e-4d9b-906d-81c6a9db5a9d",
   "metadata": {},
   "outputs": [],
   "source": [
    "e = ()"
   ]
  },
  {
   "cell_type": "code",
   "execution_count": 2,
   "id": "1f19bfd2-47c8-4694-8ec0-ad7b185cb26c",
   "metadata": {},
   "outputs": [
    {
     "data": {
      "text/plain": [
       "tuple"
      ]
     },
     "execution_count": 2,
     "metadata": {},
     "output_type": "execute_result"
    }
   ],
   "source": [
    "type(e)"
   ]
  },
  {
   "cell_type": "code",
   "execution_count": 3,
   "id": "5eb496f1-e007-4aeb-904a-def9904335a5",
   "metadata": {},
   "outputs": [
    {
     "data": {
      "text/plain": [
       "0"
      ]
     },
     "execution_count": 3,
     "metadata": {},
     "output_type": "execute_result"
    }
   ],
   "source": [
    "len(e)"
   ]
  },
  {
   "cell_type": "code",
   "execution_count": 4,
   "id": "c19a5317-c3cf-431e-adb2-095a7515b0c6",
   "metadata": {},
   "outputs": [
    {
     "data": {
      "text/plain": [
       "(5, 64, 23, 23)"
      ]
     },
     "execution_count": 4,
     "metadata": {},
     "output_type": "execute_result"
    }
   ],
   "source": [
    "t = (5,64,23,23)\n",
    "t"
   ]
  },
  {
   "cell_type": "code",
   "execution_count": 5,
   "id": "6f30ab09-2864-436d-baa5-d4efd7098f88",
   "metadata": {},
   "outputs": [
    {
     "data": {
      "text/plain": [
       "4"
      ]
     },
     "execution_count": 5,
     "metadata": {},
     "output_type": "execute_result"
    }
   ],
   "source": [
    "len(t)"
   ]
  },
  {
   "cell_type": "code",
   "execution_count": 6,
   "id": "ef597c71-3b9b-4a28-ba05-78b4b46bf40a",
   "metadata": {},
   "outputs": [
    {
     "data": {
      "text/plain": [
       "5"
      ]
     },
     "execution_count": 6,
     "metadata": {},
     "output_type": "execute_result"
    }
   ],
   "source": [
    "t[0]"
   ]
  },
  {
   "cell_type": "code",
   "execution_count": 7,
   "id": "de32a97b-fb73-4a71-a4e9-d98775a9b6eb",
   "metadata": {},
   "outputs": [
    {
     "data": {
      "text/plain": [
       "64"
      ]
     },
     "execution_count": 7,
     "metadata": {},
     "output_type": "execute_result"
    }
   ],
   "source": [
    "t[1]"
   ]
  },
  {
   "cell_type": "code",
   "execution_count": 8,
   "id": "f5e82615-2a86-4be7-bffc-d21941264f7c",
   "metadata": {},
   "outputs": [],
   "source": [
    "# t[6] Out of bound"
   ]
  },
  {
   "cell_type": "code",
   "execution_count": 9,
   "id": "73edb1f2-cc06-4369-8e40-397a819a07d2",
   "metadata": {},
   "outputs": [
    {
     "ename": "TypeError",
     "evalue": "'tuple' object does not support item assignment",
     "output_type": "error",
     "traceback": [
      "\u001b[31m---------------------------------------------------------------------------\u001b[39m",
      "\u001b[31mTypeError\u001b[39m                                 Traceback (most recent call last)",
      "\u001b[36mCell\u001b[39m\u001b[36m \u001b[39m\u001b[32mIn[9]\u001b[39m\u001b[32m, line 1\u001b[39m\n\u001b[32m----> \u001b[39m\u001b[32m1\u001b[39m t[\u001b[32m1\u001b[39m] = \u001b[33m'\u001b[39m\u001b[33mK\u001b[39m\u001b[33m'\u001b[39m\n",
      "\u001b[31mTypeError\u001b[39m: 'tuple' object does not support item assignment"
     ]
    }
   ],
   "source": [
    "t[1] = 'K'"
   ]
  },
  {
   "cell_type": "code",
   "execution_count": null,
   "id": "7f1385e9-3278-4a54-b696-ff3a8f1d445c",
   "metadata": {},
   "outputs": [],
   "source": [
    "person = (\"Alice\", 25, \"Engineer\") #Same way reverse is also possible\n",
    "name,age, profession= person"
   ]
  },
  {
   "cell_type": "code",
   "execution_count": null,
   "id": "f3561fee-43d1-4a60-b711-3b657f67aba5",
   "metadata": {},
   "outputs": [],
   "source": [
    "print(name, age, profession)"
   ]
  },
  {
   "cell_type": "code",
   "execution_count": null,
   "id": "38c580e6-91ef-44dd-b568-3d2d6a7bdcd0",
   "metadata": {},
   "outputs": [],
   "source": []
  }
 ],
 "metadata": {
  "kernelspec": {
   "display_name": "Python 3 (ipykernel)",
   "language": "python",
   "name": "python3"
  },
  "language_info": {
   "codemirror_mode": {
    "name": "ipython",
    "version": 3
   },
   "file_extension": ".py",
   "mimetype": "text/x-python",
   "name": "python",
   "nbconvert_exporter": "python",
   "pygments_lexer": "ipython3",
   "version": "3.13.2"
  }
 },
 "nbformat": 4,
 "nbformat_minor": 5
}
