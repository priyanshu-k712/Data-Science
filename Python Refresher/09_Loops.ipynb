{
 "cells": [
  {
   "cell_type": "code",
   "execution_count": 1,
   "id": "15588c75-034b-45ff-b33e-84cec916e9ff",
   "metadata": {},
   "outputs": [
    {
     "name": "stdout",
     "output_type": "stream",
     "text": [
      "apple\n",
      "Grapes\n",
      "Mango\n"
     ]
    }
   ],
   "source": [
    "fruits = [\"apple\", \"Grapes\", \"Mango\"]\n",
    "for fruit in fruits:\n",
    "    print(fruit)"
   ]
  },
  {
   "cell_type": "code",
   "execution_count": 2,
   "id": "3ace64e3-0f72-45c7-a113-2746bf4a6b03",
   "metadata": {},
   "outputs": [
    {
     "name": "stdout",
     "output_type": "stream",
     "text": [
      "1\n",
      "2\n",
      "3\n",
      "4\n",
      "5\n",
      "6\n",
      "7\n",
      "8\n",
      "9\n",
      "10\n"
     ]
    }
   ],
   "source": [
    "for i in range(1,11):\n",
    "    print(i)"
   ]
  },
  {
   "cell_type": "code",
   "execution_count": 3,
   "id": "1592ac3f-b9b1-4259-a3c8-bfbc3c01fe2a",
   "metadata": {},
   "outputs": [
    {
     "name": "stdout",
     "output_type": "stream",
     "text": [
      "1\n",
      "2\n",
      "3\n",
      "4\n",
      "5\n"
     ]
    }
   ],
   "source": [
    "count = 1\n",
    "while(count<=5):\n",
    "    print(count)\n",
    "    count+=1"
   ]
  },
  {
   "cell_type": "code",
   "execution_count": 4,
   "id": "edc55b89-62af-4c83-86ec-371a90d08f7c",
   "metadata": {},
   "outputs": [
    {
     "name": "stdout",
     "output_type": "stream",
     "text": [
      "0\n",
      "1\n",
      "2\n",
      "3\n",
      "4\n",
      "5\n",
      "6\n",
      "7\n",
      "8\n",
      "9\n",
      "10\n",
      "11\n"
     ]
    }
   ],
   "source": [
    "i = 0\n",
    "while i<12:\n",
    "    print(i)\n",
    "    i+=1"
   ]
  },
  {
   "cell_type": "code",
   "execution_count": 5,
   "id": "38484c9b-6d0b-4b70-aa9a-b0ba4ffeae36",
   "metadata": {},
   "outputs": [
    {
     "name": "stdout",
     "output_type": "stream",
     "text": [
      "Helllo\n"
     ]
    }
   ],
   "source": [
    "for item in fruits:\n",
    "    pass #Dont do anything here\n",
    "print(\"Helllo\")"
   ]
  },
  {
   "cell_type": "code",
   "execution_count": 6,
   "id": "12cf82e8-860c-4bfd-b2ee-eba1972c84fc",
   "metadata": {},
   "outputs": [],
   "source": [
    "for fruit in fruits:\n",
    "    if (fruit==\"apple\"):\n",
    "        break #Stop this loop right here\n",
    "    print(fruit)"
   ]
  },
  {
   "cell_type": "code",
   "execution_count": 7,
   "id": "756eb73a-1c6a-4e19-be11-0e7812c90691",
   "metadata": {},
   "outputs": [
    {
     "name": "stdout",
     "output_type": "stream",
     "text": [
      "Grapes\n",
      "Mango\n"
     ]
    }
   ],
   "source": [
    "for fruit in fruits:\n",
    "    if (fruit==\"apple\"):\n",
    "        continue #Stop this particular iteration of the loop\n",
    "    print(fruit)"
   ]
  },
  {
   "cell_type": "code",
   "execution_count": null,
   "id": "03196510-0aea-4bd8-8579-b1452a859593",
   "metadata": {},
   "outputs": [],
   "source": []
  }
 ],
 "metadata": {
  "kernelspec": {
   "display_name": "Python 3 (ipykernel)",
   "language": "python",
   "name": "python3"
  },
  "language_info": {
   "codemirror_mode": {
    "name": "ipython",
    "version": 3
   },
   "file_extension": ".py",
   "mimetype": "text/x-python",
   "name": "python",
   "nbconvert_exporter": "python",
   "pygments_lexer": "ipython3",
   "version": "3.13.2"
  }
 },
 "nbformat": 4,
 "nbformat_minor": 5
}
