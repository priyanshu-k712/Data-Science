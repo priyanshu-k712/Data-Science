{
 "cells": [
  {
   "cell_type": "code",
   "execution_count": 1,
   "id": "64e3e867-6f6b-407c-9471-8f3e17c23542",
   "metadata": {},
   "outputs": [],
   "source": [
    "f = open(\"text.txt\", \"r\")\n",
    "f.read()\n",
    "f.close()"
   ]
  },
  {
   "cell_type": "code",
   "execution_count": 2,
   "id": "8f400c78-ce5d-48b8-9d58-4708fcbbd93b",
   "metadata": {},
   "outputs": [],
   "source": [
    "s = \"This is a nice way to learn Data Science\"\n",
    "f = open(\"harry.txt\", \"w\") #File mode \"a\" to append in the file\n",
    "f.write(s)\n",
    "f.close()"
   ]
  },
  {
   "cell_type": "code",
   "execution_count": 3,
   "id": "c67125b3-ad38-48f4-af88-572bf5a9d9d3",
   "metadata": {},
   "outputs": [
    {
     "name": "stdout",
     "output_type": "stream",
     "text": [
      "This is a nice way to learn Data Science\n"
     ]
    }
   ],
   "source": [
    "with open(\"harry.txt\", \"r\") as f:\n",
    "    content = f.read()\n",
    "    print(content) #Preferable because we dont need to f.close()"
   ]
  },
  {
   "cell_type": "code",
   "execution_count": null,
   "id": "6529633a-76ce-4398-8cb5-966f7a7aa1a1",
   "metadata": {},
   "outputs": [],
   "source": []
  }
 ],
 "metadata": {
  "kernelspec": {
   "display_name": "Python 3 (ipykernel)",
   "language": "python",
   "name": "python3"
  },
  "language_info": {
   "codemirror_mode": {
    "name": "ipython",
    "version": 3
   },
   "file_extension": ".py",
   "mimetype": "text/x-python",
   "name": "python",
   "nbconvert_exporter": "python",
   "pygments_lexer": "ipython3",
   "version": "3.13.2"
  }
 },
 "nbformat": 4,
 "nbformat_minor": 5
}
