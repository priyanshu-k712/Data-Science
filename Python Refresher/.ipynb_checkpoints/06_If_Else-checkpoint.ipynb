{
 "cells": [
  {
   "cell_type": "code",
   "execution_count": 1,
   "id": "abf1fecc-4bd0-43ab-8ca9-95b826081f69",
   "metadata": {},
   "outputs": [],
   "source": [
    "a = 4"
   ]
  },
  {
   "cell_type": "code",
   "execution_count": 2,
   "id": "1882584d-ffe9-4afa-a777-1e4c07e5f5a6",
   "metadata": {},
   "outputs": [
    {
     "name": "stdout",
     "output_type": "stream",
     "text": [
      "Yello\n"
     ]
    }
   ],
   "source": [
    "if(a>53):\n",
    "    print(\"Hello\")\n",
    "else:\n",
    "    print(\"Yello\")"
   ]
  },
  {
   "cell_type": "code",
   "execution_count": null,
   "id": "2d114b44-b32b-47c4-9ed8-e9f86eeb8d4e",
   "metadata": {},
   "outputs": [],
   "source": []
  }
 ],
 "metadata": {
  "kernelspec": {
   "display_name": "Python 3 (ipykernel)",
   "language": "python",
   "name": "python3"
  },
  "language_info": {
   "codemirror_mode": {
    "name": "ipython",
    "version": 3
   },
   "file_extension": ".py",
   "mimetype": "text/x-python",
   "name": "python",
   "nbconvert_exporter": "python",
   "pygments_lexer": "ipython3",
   "version": "3.13.2"
  }
 },
 "nbformat": 4,
 "nbformat_minor": 5
}
