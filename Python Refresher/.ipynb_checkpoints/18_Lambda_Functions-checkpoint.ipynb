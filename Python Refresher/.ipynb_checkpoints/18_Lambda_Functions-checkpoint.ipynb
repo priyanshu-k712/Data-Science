{
 "cells": [
  {
   "cell_type": "markdown",
   "id": "00ece4fe-b723-4786-bf0c-66980411ae96",
   "metadata": {},
   "source": [
    "**One liner functions**"
   ]
  },
  {
   "cell_type": "code",
   "execution_count": 1,
   "id": "fa621e91-6e44-427e-9504-7aa2f2546d58",
   "metadata": {},
   "outputs": [
    {
     "data": {
      "text/plain": [
       "27"
      ]
     },
     "execution_count": 1,
     "metadata": {},
     "output_type": "execute_result"
    }
   ],
   "source": [
    "cube = lambda x:x*x*x\n",
    "cube(3)"
   ]
  },
  {
   "cell_type": "code",
   "execution_count": 2,
   "id": "81dc136c-9f9b-4036-a9fc-991fff671151",
   "metadata": {},
   "outputs": [
    {
     "data": {
      "text/plain": [
       "10"
      ]
     },
     "execution_count": 2,
     "metadata": {},
     "output_type": "execute_result"
    }
   ],
   "source": [
    "s = (lambda a,b:a+b)\n",
    "s(4,6)"
   ]
  },
  {
   "cell_type": "code",
   "execution_count": null,
   "id": "b784f245-d00c-46fb-9fcd-0ffbed1e7c67",
   "metadata": {},
   "outputs": [],
   "source": []
  }
 ],
 "metadata": {
  "kernelspec": {
   "display_name": "Python 3 (ipykernel)",
   "language": "python",
   "name": "python3"
  },
  "language_info": {
   "codemirror_mode": {
    "name": "ipython",
    "version": 3
   },
   "file_extension": ".py",
   "mimetype": "text/x-python",
   "name": "python",
   "nbconvert_exporter": "python",
   "pygments_lexer": "ipython3",
   "version": "3.13.2"
  }
 },
 "nbformat": 4,
 "nbformat_minor": 5
}
