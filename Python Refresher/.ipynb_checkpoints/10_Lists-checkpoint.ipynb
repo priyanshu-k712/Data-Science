{
 "cells": [
  {
   "cell_type": "code",
   "execution_count": 1,
   "id": "b63f187b-d80a-416b-80d3-4625efd40712",
   "metadata": {},
   "outputs": [],
   "source": [
    "l = [3, 5, 25, 3]"
   ]
  },
  {
   "cell_type": "code",
   "execution_count": 2,
   "id": "bb9f65ee-610f-4ec8-94a3-8c8d957ca36a",
   "metadata": {},
   "outputs": [
    {
     "data": {
      "text/plain": [
       "3"
      ]
     },
     "execution_count": 2,
     "metadata": {},
     "output_type": "execute_result"
    }
   ],
   "source": [
    "l[0]"
   ]
  },
  {
   "cell_type": "code",
   "execution_count": 3,
   "id": "3792c251-db65-4143-87df-49ec7f890f97",
   "metadata": {},
   "outputs": [
    {
     "data": {
      "text/plain": [
       "5"
      ]
     },
     "execution_count": 3,
     "metadata": {},
     "output_type": "execute_result"
    }
   ],
   "source": [
    "l[1]"
   ]
  },
  {
   "cell_type": "code",
   "execution_count": 4,
   "id": "d3d0760a-7786-4ca1-9a29-a413192b00e5",
   "metadata": {},
   "outputs": [],
   "source": [
    "# l[7] list index out of bound error"
   ]
  },
  {
   "cell_type": "code",
   "execution_count": 5,
   "id": "a1299813-4552-4128-aa12-ec1c214ae69f",
   "metadata": {},
   "outputs": [],
   "source": [
    "l[0] = 4"
   ]
  },
  {
   "cell_type": "code",
   "execution_count": 6,
   "id": "94cabecc-0228-4b42-8db1-093270f248d8",
   "metadata": {},
   "outputs": [
    {
     "data": {
      "text/plain": [
       "[4, 5, 25, 3]"
      ]
     },
     "execution_count": 6,
     "metadata": {},
     "output_type": "execute_result"
    }
   ],
   "source": [
    "l"
   ]
  },
  {
   "cell_type": "code",
   "execution_count": 7,
   "id": "c0673a9f-ca3b-4754-bf8c-eeda52aac8b4",
   "metadata": {},
   "outputs": [
    {
     "data": {
      "text/plain": [
       "[4, 5, 25, 3, 9]"
      ]
     },
     "execution_count": 7,
     "metadata": {},
     "output_type": "execute_result"
    }
   ],
   "source": [
    "l.append(9) # lists are mutable it dosent return a copy of the list but chamges the original list.\n",
    "l"
   ]
  },
  {
   "cell_type": "code",
   "execution_count": 8,
   "id": "5dfbb9a1-fcd5-4170-83b6-e14bb11c4260",
   "metadata": {},
   "outputs": [
    {
     "data": {
      "text/plain": [
       "[4, 5, 25, 3, 9, [6, 2, 9]]"
      ]
     },
     "execution_count": 8,
     "metadata": {},
     "output_type": "execute_result"
    }
   ],
   "source": [
    "l2 = [6,2,9]\n",
    "l.append(l2)\n",
    "l"
   ]
  },
  {
   "cell_type": "code",
   "execution_count": 9,
   "id": "211ea804-42e2-423e-91af-ed05c03e1996",
   "metadata": {},
   "outputs": [
    {
     "data": {
      "text/plain": [
       "[4, 200, 5, 25, 3, 9, [6, 2, 9]]"
      ]
     },
     "execution_count": 9,
     "metadata": {},
     "output_type": "execute_result"
    }
   ],
   "source": [
    "l.insert(1, 200) #insert 200 at index 1\n",
    "l"
   ]
  },
  {
   "cell_type": "code",
   "execution_count": 10,
   "id": "4b474cf7-071c-45e1-b2e2-edac142dcad0",
   "metadata": {},
   "outputs": [
    {
     "name": "stdout",
     "output_type": "stream",
     "text": [
      "200\n"
     ]
    },
    {
     "data": {
      "text/plain": [
       "[4, 5, 25, 3, 9, [6, 2, 9]]"
      ]
     },
     "execution_count": 10,
     "metadata": {},
     "output_type": "execute_result"
    }
   ],
   "source": [
    "num = l.pop(1) #removing element from index 1\n",
    "print(num)\n",
    "l"
   ]
  },
  {
   "cell_type": "code",
   "execution_count": 11,
   "id": "a822a52f-2ebf-4efa-aeaa-34f5e93b455b",
   "metadata": {},
   "outputs": [
    {
     "data": {
      "text/plain": [
       "5"
      ]
     },
     "execution_count": 11,
     "metadata": {},
     "output_type": "execute_result"
    }
   ],
   "source": [
    "l.index([6,2,9])"
   ]
  },
  {
   "cell_type": "code",
   "execution_count": 12,
   "id": "85b98cbb-9d4d-4588-8833-399a6461426b",
   "metadata": {},
   "outputs": [
    {
     "data": {
      "text/plain": [
       "2"
      ]
     },
     "execution_count": 12,
     "metadata": {},
     "output_type": "execute_result"
    }
   ],
   "source": [
    "l.index(25)"
   ]
  },
  {
   "cell_type": "code",
   "execution_count": 13,
   "id": "9093ec93-3ba9-49c8-9fe7-de31cf349a78",
   "metadata": {},
   "outputs": [
    {
     "data": {
      "text/plain": [
       "[4, 5, 25, 3, 9, [6, 2, 9], 25]"
      ]
     },
     "execution_count": 13,
     "metadata": {},
     "output_type": "execute_result"
    }
   ],
   "source": [
    "l.append(25)\n",
    "l"
   ]
  },
  {
   "cell_type": "code",
   "execution_count": 14,
   "id": "74caa01f-5a75-4810-9e8b-59794c646e23",
   "metadata": {},
   "outputs": [
    {
     "data": {
      "text/plain": [
       "2"
      ]
     },
     "execution_count": 14,
     "metadata": {},
     "output_type": "execute_result"
    }
   ],
   "source": [
    "l.count(25)"
   ]
  },
  {
   "cell_type": "code",
   "execution_count": 15,
   "id": "43011613-c674-4251-909d-182d83b4e9c0",
   "metadata": {},
   "outputs": [
    {
     "data": {
      "text/plain": [
       "[3, 4, 5, 9, 25, 25]"
      ]
     },
     "execution_count": 15,
     "metadata": {},
     "output_type": "execute_result"
    }
   ],
   "source": [
    "l.pop(5)\n",
    "l.sort() #Sorts the origianl list\n",
    "l"
   ]
  },
  {
   "cell_type": "code",
   "execution_count": 16,
   "id": "a82700e2-a733-4f8b-ae6b-38fe2860d5a1",
   "metadata": {},
   "outputs": [
    {
     "data": {
      "text/plain": [
       "[3, 4, 5, 9, 25, 25]"
      ]
     },
     "execution_count": 16,
     "metadata": {},
     "output_type": "execute_result"
    }
   ],
   "source": [
    "sorted(l)"
   ]
  },
  {
   "cell_type": "code",
   "execution_count": 17,
   "id": "36ba20bb-619e-4153-8f25-ef979fc9c716",
   "metadata": {},
   "outputs": [
    {
     "name": "stdout",
     "output_type": "stream",
     "text": [
      "[3, 4, 5, 9, 25, 25]\n"
     ]
    }
   ],
   "source": [
    "newl = [2,6,1,21,6]\n",
    "sorted(newl) #A sorted copy of the original list\n",
    "print(l)"
   ]
  },
  {
   "cell_type": "code",
   "execution_count": 18,
   "id": "581e82d4-77a9-4f56-bcc4-04be3b212156",
   "metadata": {},
   "outputs": [
    {
     "name": "stdout",
     "output_type": "stream",
     "text": [
      "[1, 2, True, False, [6, 2, 5]]\n"
     ]
    },
    {
     "data": {
      "text/plain": [
       "2"
      ]
     },
     "execution_count": 18,
     "metadata": {},
     "output_type": "execute_result"
    }
   ],
   "source": [
    "y = [1,2, True, False, [6,2,5]]\n",
    "print(y)\n",
    "y[4][1]"
   ]
  },
  {
   "cell_type": "code",
   "execution_count": 19,
   "id": "57524a25-2b70-47b1-b7b1-0b0889f732a9",
   "metadata": {},
   "outputs": [
    {
     "name": "stdout",
     "output_type": "stream",
     "text": [
      "[4, 32, 12, 3, 1, 8]\n",
      "[4, 32, 12]\n",
      "[3, 1, 8]\n"
     ]
    }
   ],
   "source": [
    "list1 = [4,32,12]\n",
    "list2 = [3, 1, 8]\n",
    "print(list1+list2)\n",
    "print(list1)\n",
    "print(list2)"
   ]
  },
  {
   "cell_type": "code",
   "execution_count": 20,
   "id": "9bb7536a-3452-4353-ba1a-772a3a25b43b",
   "metadata": {},
   "outputs": [
    {
     "name": "stdout",
     "output_type": "stream",
     "text": [
      "Yes\n"
     ]
    },
    {
     "data": {
      "text/plain": [
       "False"
      ]
     },
     "execution_count": 20,
     "metadata": {},
     "output_type": "execute_result"
    }
   ],
   "source": [
    "if 3 in list2:\n",
    "    print(\"Yes\")\n",
    "33 in list2"
   ]
  },
  {
   "cell_type": "code",
   "execution_count": 21,
   "id": "0b1d0b24-dd64-4fe2-ab02-338fe6962ae8",
   "metadata": {},
   "outputs": [
    {
     "data": {
      "text/plain": [
       "['jack', 'jill', 'shubham', 'javed', 'salman', 'akshay']"
      ]
     },
     "execution_count": 21,
     "metadata": {},
     "output_type": "execute_result"
    }
   ],
   "source": [
    "s = \"jack-jill-shubham-javed-salman-akshay\"\n",
    "newlist = s.split(\"-\")\n",
    "newlist"
   ]
  },
  {
   "cell_type": "code",
   "execution_count": null,
   "id": "7a26912f-cc01-4f7d-81fd-8eefbeab27d5",
   "metadata": {},
   "outputs": [],
   "source": []
  }
 ],
 "metadata": {
  "kernelspec": {
   "display_name": "Python 3 (ipykernel)",
   "language": "python",
   "name": "python3"
  },
  "language_info": {
   "codemirror_mode": {
    "name": "ipython",
    "version": 3
   },
   "file_extension": ".py",
   "mimetype": "text/x-python",
   "name": "python",
   "nbconvert_exporter": "python",
   "pygments_lexer": "ipython3",
   "version": "3.13.2"
  }
 },
 "nbformat": 4,
 "nbformat_minor": 5
}
