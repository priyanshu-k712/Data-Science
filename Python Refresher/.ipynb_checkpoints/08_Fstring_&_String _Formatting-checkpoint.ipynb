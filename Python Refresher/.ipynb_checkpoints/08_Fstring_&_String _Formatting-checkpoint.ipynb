{
 "cells": [
  {
   "cell_type": "code",
   "execution_count": 1,
   "id": "fd12789c-8691-44c5-bacb-1b21394033d2",
   "metadata": {},
   "outputs": [],
   "source": [
    "name = \"Alice\"\n",
    "#name[0] = 'l' Strings are immutable But through functions we get a copy of the string which is updated as per requirement."
   ]
  },
  {
   "cell_type": "code",
   "execution_count": 2,
   "id": "05d3a431-400f-4b36-b063-5897488289cb",
   "metadata": {},
   "outputs": [
    {
     "name": "stdout",
     "output_type": "stream",
     "text": [
      "My name is Alice and I am 25 years old\n"
     ]
    }
   ],
   "source": [
    "age = 25\n",
    "print(\"My name is {} and I am {} years old\".format(name, str(age)))"
   ]
  },
  {
   "cell_type": "code",
   "execution_count": 3,
   "id": "6f87e4dc-daf2-4501-a424-d92709713a83",
   "metadata": {},
   "outputs": [
    {
     "name": "stdout",
     "output_type": "stream",
     "text": [
      "My name is Alice and I am 25 years old.\n"
     ]
    }
   ],
   "source": [
    "print(f\"My name is {name} and I am {age} years old.\")"
   ]
  },
  {
   "cell_type": "code",
   "execution_count": 4,
   "id": "8036f9ad-c0aa-43dc-9aee-bc68ad373e87",
   "metadata": {},
   "outputs": [
    {
     "name": "stdout",
     "output_type": "stream",
     "text": [
      "Value od pi is 3.14\n"
     ]
    }
   ],
   "source": [
    "pi = 3.14159\n",
    "print(f\"Value od pi is {pi:.2f}\")"
   ]
  },
  {
   "cell_type": "code",
   "execution_count": 5,
   "id": "1db38651-7074-4dab-91ed-01e37fc482c1",
   "metadata": {},
   "outputs": [
    {
     "name": "stdout",
     "output_type": "stream",
     "text": [
      "Python    \n",
      "    Python\n",
      "  Python  \n"
     ]
    }
   ],
   "source": [
    "print(f\"{\"Python\":<10}\")\n",
    "print(f\"{\"Python\":>10}\")\n",
    "print(f\"{\"Python\":^10}\")"
   ]
  },
  {
   "cell_type": "code",
   "execution_count": null,
   "id": "b08a0e7e-6095-4995-a210-46430043372f",
   "metadata": {},
   "outputs": [],
   "source": []
  }
 ],
 "metadata": {
  "kernelspec": {
   "display_name": "Python 3 (ipykernel)",
   "language": "python",
   "name": "python3"
  },
  "language_info": {
   "codemirror_mode": {
    "name": "ipython",
    "version": 3
   },
   "file_extension": ".py",
   "mimetype": "text/x-python",
   "name": "python",
   "nbconvert_exporter": "python",
   "pygments_lexer": "ipython3",
   "version": "3.13.2"
  }
 },
 "nbformat": 4,
 "nbformat_minor": 5
}
