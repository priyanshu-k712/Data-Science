{
 "cells": [
  {
   "cell_type": "code",
   "execution_count": 1,
   "id": "b20fdb87-4111-4877-87b2-80d9a4855490",
   "metadata": {},
   "outputs": [
    {
     "name": "stdout",
     "output_type": "stream",
     "text": [
      "Done\n"
     ]
    },
    {
     "data": {
      "text/plain": [
       "'Unknown Status'"
      ]
     },
     "execution_count": 1,
     "metadata": {},
     "output_type": "execute_result"
    }
   ],
   "source": [
    "def http_status(code):\n",
    "    match code:\n",
    "        case 200:\n",
    "            print(\"Done\")\n",
    "        case 400:\n",
    "            print(\"Bad Request\")\n",
    "        case 404:\n",
    "            print(\"Not Found\")\n",
    "        case 500:\n",
    "            print(\"Internal Server Error\")\n",
    "        case _:\n",
    "            return \"Unknown Status\"\n",
    "\n",
    "http_status(200)\n",
    "http_status(600)"
   ]
  },
  {
   "cell_type": "code",
   "execution_count": null,
   "id": "461bc4aa-4309-4c3d-92cb-9e3a13f1bebc",
   "metadata": {},
   "outputs": [],
   "source": []
  }
 ],
 "metadata": {
  "kernelspec": {
   "display_name": "Python 3 (ipykernel)",
   "language": "python",
   "name": "python3"
  },
  "language_info": {
   "codemirror_mode": {
    "name": "ipython",
    "version": 3
   },
   "file_extension": ".py",
   "mimetype": "text/x-python",
   "name": "python",
   "nbconvert_exporter": "python",
   "pygments_lexer": "ipython3",
   "version": "3.13.2"
  }
 },
 "nbformat": 4,
 "nbformat_minor": 5
}
