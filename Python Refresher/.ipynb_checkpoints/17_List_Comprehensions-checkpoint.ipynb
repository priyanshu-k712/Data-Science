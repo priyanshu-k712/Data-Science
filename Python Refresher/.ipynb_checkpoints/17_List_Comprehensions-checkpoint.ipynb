{
 "cells": [
  {
   "cell_type": "markdown",
   "id": "50ed5927-4df0-4006-9eef-e892458cb781",
   "metadata": {},
   "source": [
    "*Consise and Efficient way to generate list*"
   ]
  },
  {
   "cell_type": "code",
   "execution_count": 1,
   "id": "5fc88ce0-7b62-4081-a2cb-ffd383fe669b",
   "metadata": {},
   "outputs": [
    {
     "name": "stdout",
     "output_type": "stream",
     "text": [
      "2*1 = 2\n",
      "2*2 = 4\n",
      "2*3 = 6\n",
      "2*4 = 8\n",
      "2*5 = 10\n",
      "2*6 = 12\n",
      "2*7 = 14\n",
      "2*8 = 16\n",
      "2*9 = 18\n",
      "2*10 = 20\n"
     ]
    }
   ],
   "source": [
    "table = []\n",
    "for i in range(1,11):\n",
    "    print(f\"2*{i} = {2*i}\")\n",
    "    table.append(2*i)"
   ]
  },
  {
   "cell_type": "code",
   "execution_count": 2,
   "id": "0c39baf5-f91d-4906-b7dc-d442fb580ed8",
   "metadata": {},
   "outputs": [
    {
     "data": {
      "text/plain": [
       "[2, 4, 6, 8, 10, 12, 14, 16, 18, 20]"
      ]
     },
     "execution_count": 2,
     "metadata": {},
     "output_type": "execute_result"
    }
   ],
   "source": [
    "t = [2*i for i in range(1,11)]\n",
    "t"
   ]
  },
  {
   "cell_type": "code",
   "execution_count": 3,
   "id": "cb4aa256-850c-44d9-9680-782ad5cbc2c8",
   "metadata": {},
   "outputs": [
    {
     "data": {
      "text/plain": [
       "[4, 8, 12, 16, 20]"
      ]
     },
     "execution_count": 3,
     "metadata": {},
     "output_type": "execute_result"
    }
   ],
   "source": [
    "t = [2*i for i in range(1,11) if i%2==0]\n",
    "t"
   ]
  },
  {
   "cell_type": "markdown",
   "id": "f4b9ca14-f6db-4df5-908f-b5b27eb55537",
   "metadata": {},
   "source": [
    "*Touples are immutables therefore there are no touple comprehensions*"
   ]
  },
  {
   "cell_type": "code",
   "execution_count": null,
   "id": "721d0bc1-f147-482d-992e-14af138bacab",
   "metadata": {},
   "outputs": [],
   "source": []
  }
 ],
 "metadata": {
  "kernelspec": {
   "display_name": "Python 3 (ipykernel)",
   "language": "python",
   "name": "python3"
  },
  "language_info": {
   "codemirror_mode": {
    "name": "ipython",
    "version": 3
   },
   "file_extension": ".py",
   "mimetype": "text/x-python",
   "name": "python",
   "nbconvert_exporter": "python",
   "pygments_lexer": "ipython3",
   "version": "3.13.2"
  }
 },
 "nbformat": 4,
 "nbformat_minor": 5
}
