{
 "cells": [
  {
   "cell_type": "markdown",
   "id": "149fabed-d028-432f-af4d-eeeaf08eb126",
   "metadata": {},
   "source": [
    "**mutable key-value pair**"
   ]
  },
  {
   "cell_type": "code",
   "execution_count": 1,
   "id": "cbea2f3c-d19a-4e81-913b-405f990ca172",
   "metadata": {},
   "outputs": [],
   "source": [
    "empty_dict = {}"
   ]
  },
  {
   "cell_type": "code",
   "execution_count": 2,
   "id": "0b25dceb-c76a-47f8-a4db-e8be3755f266",
   "metadata": {},
   "outputs": [
    {
     "data": {
      "text/plain": [
       "'Priyanshu'"
      ]
     },
     "execution_count": 2,
     "metadata": {},
     "output_type": "execute_result"
    }
   ],
   "source": [
    "student = {\n",
    "    \"name\" : \"Priyanshu\",\n",
    "    \"age\": 25,\n",
    "    \"grade\": \"A\"\n",
    "}\n",
    "student[\"name\"]\n",
    "student.get(\"name\") #Better because if there doesnt exist any key then it wont show error but will show None"
   ]
  },
  {
   "cell_type": "code",
   "execution_count": 3,
   "id": "43f40d3e-e8c6-45cb-9ca3-5cf3ea817e60",
   "metadata": {},
   "outputs": [
    {
     "data": {
      "text/plain": [
       "{'name': 'Priyanshu', 'age': 25, 'grade': 'A', 'city': 'Junagadh'}"
      ]
     },
     "execution_count": 3,
     "metadata": {},
     "output_type": "execute_result"
    }
   ],
   "source": [
    "student[\"city\"] = \"Junagadh\"\n",
    "student"
   ]
  },
  {
   "cell_type": "code",
   "execution_count": 4,
   "id": "cd155f3e-c7f1-41e8-b516-540903066930",
   "metadata": {},
   "outputs": [
    {
     "data": {
      "text/plain": [
       "20"
      ]
     },
     "execution_count": 4,
     "metadata": {},
     "output_type": "execute_result"
    }
   ],
   "source": [
    "student[\"age\"] = 20\n",
    "student[\"age\"]"
   ]
  },
  {
   "cell_type": "code",
   "execution_count": 5,
   "id": "d95e54e8-e590-49b2-b51f-f3bf0fed9581",
   "metadata": {},
   "outputs": [
    {
     "data": {
      "text/plain": [
       "dict_keys(['name', 'age', 'grade', 'city'])"
      ]
     },
     "execution_count": 5,
     "metadata": {},
     "output_type": "execute_result"
    }
   ],
   "source": [
    "student.keys()"
   ]
  },
  {
   "cell_type": "code",
   "execution_count": 6,
   "id": "b4ebc622-24fe-485b-ab01-2da5882e4ab8",
   "metadata": {},
   "outputs": [
    {
     "data": {
      "text/plain": [
       "dict_values(['Priyanshu', 20, 'A', 'Junagadh'])"
      ]
     },
     "execution_count": 6,
     "metadata": {},
     "output_type": "execute_result"
    }
   ],
   "source": [
    "student.values()"
   ]
  },
  {
   "cell_type": "code",
   "execution_count": 7,
   "id": "5c78dff6-f508-411c-a5f1-29abd9ba956b",
   "metadata": {},
   "outputs": [
    {
     "data": {
      "text/plain": [
       "dict_items([('name', 'Priyanshu'), ('age', 20), ('grade', 'A'), ('city', 'Junagadh')])"
      ]
     },
     "execution_count": 7,
     "metadata": {},
     "output_type": "execute_result"
    }
   ],
   "source": [
    "student.items()"
   ]
  },
  {
   "cell_type": "code",
   "execution_count": 8,
   "id": "a7fe86f7-0767-4895-acf4-6e3b220b2c73",
   "metadata": {},
   "outputs": [
    {
     "data": {
      "text/plain": [
       "{'name': 'Harry', 'age': 20, 'grade': 'A', 'city': 'Junagadh'}"
      ]
     },
     "execution_count": 8,
     "metadata": {},
     "output_type": "execute_result"
    }
   ],
   "source": [
    "student.update({\n",
    "    \"name\": \"Harry\"\n",
    "})\n",
    "student"
   ]
  },
  {
   "cell_type": "code",
   "execution_count": 9,
   "id": "669ae10b-15c9-49f6-b925-d64fecd3bc3c",
   "metadata": {},
   "outputs": [
    {
     "data": {
      "text/plain": [
       "{'name': 'Ruchita',\n",
       " 'age': 20,\n",
       " 'grade': 'A',\n",
       " 'city': 'Junagadh',\n",
       " 'language': 'Python'}"
      ]
     },
     "execution_count": 9,
     "metadata": {},
     "output_type": "execute_result"
    }
   ],
   "source": [
    "student.update({\n",
    "    \"name\" : \"Ruchita\", \n",
    "    \"language\": \"Python\"\n",
    "})\n",
    "student"
   ]
  },
  {
   "cell_type": "code",
   "execution_count": 10,
   "id": "4ddbf4e6-ce39-4cf5-9401-caa16c0516e0",
   "metadata": {},
   "outputs": [
    {
     "data": {
      "text/plain": [
       "{'name': 'Ruchita', 'age': 20, 'grade': 'A', 'city': 'Junagadh'}"
      ]
     },
     "execution_count": 10,
     "metadata": {},
     "output_type": "execute_result"
    }
   ],
   "source": [
    "student.pop(\"language\")\n",
    "student"
   ]
  },
  {
   "cell_type": "code",
   "execution_count": 11,
   "id": "fe07cfc9-2b83-4592-9623-d52939bb1374",
   "metadata": {},
   "outputs": [
    {
     "data": {
      "text/plain": [
       "{'name': 'Ruchita', 'age': 20, 'grade': 'A', 'city': 'Junagadh'}"
      ]
     },
     "execution_count": 11,
     "metadata": {},
     "output_type": "execute_result"
    }
   ],
   "source": [
    "dict2 = student.copy()\n",
    "dict2"
   ]
  },
  {
   "cell_type": "code",
   "execution_count": 12,
   "id": "388f97eb-570c-4727-a95d-365f59d93cd2",
   "metadata": {},
   "outputs": [
    {
     "data": {
      "text/plain": [
       "{}"
      ]
     },
     "execution_count": 12,
     "metadata": {},
     "output_type": "execute_result"
    }
   ],
   "source": [
    "dict2.clear()\n",
    "dict2"
   ]
  },
  {
   "cell_type": "code",
   "execution_count": 13,
   "id": "5b6355a6-19ee-4e30-a492-7b8b2d015ae4",
   "metadata": {},
   "outputs": [
    {
     "data": {
      "text/plain": [
       "{'name': 'Ruchita',\n",
       " 'age': 20,\n",
       " 'grade': 'A',\n",
       " 'city': 'Junagadh',\n",
       " 'language': 'Python'}"
      ]
     },
     "execution_count": 13,
     "metadata": {},
     "output_type": "execute_result"
    }
   ],
   "source": [
    "student[\"language\"] = \"Python\"\n",
    "student"
   ]
  },
  {
   "cell_type": "code",
   "execution_count": 14,
   "id": "d6eb5dcb-79e4-49b6-a284-04c290443170",
   "metadata": {},
   "outputs": [
    {
     "data": {
      "text/plain": [
       "{'name': 'Ruchita', 'age': 20, 'grade': 'A', 'city': 'Junagadh'}"
      ]
     },
     "execution_count": 14,
     "metadata": {},
     "output_type": "execute_result"
    }
   ],
   "source": [
    "student.popitem()\n",
    "student"
   ]
  },
  {
   "cell_type": "code",
   "execution_count": 15,
   "id": "ade7d69e-5987-49cf-a384-ec1a33055afb",
   "metadata": {},
   "outputs": [
    {
     "data": {
      "text/plain": [
       "{'name': 'Ruchita',\n",
       " 'age': 20,\n",
       " 'grade': 'A',\n",
       " 'city': 'Junagadh',\n",
       " 'language': 'Python'}"
      ]
     },
     "execution_count": 15,
     "metadata": {},
     "output_type": "execute_result"
    }
   ],
   "source": [
    "student.setdefault(\"language\", \"Python\")\n",
    "student"
   ]
  },
  {
   "cell_type": "code",
   "execution_count": null,
   "id": "1f1158cb-5989-4975-8b4d-a425dc8b2fe0",
   "metadata": {},
   "outputs": [],
   "source": []
  }
 ],
 "metadata": {
  "kernelspec": {
   "display_name": "Python 3 (ipykernel)",
   "language": "python",
   "name": "python3"
  },
  "language_info": {
   "codemirror_mode": {
    "name": "ipython",
    "version": 3
   },
   "file_extension": ".py",
   "mimetype": "text/x-python",
   "name": "python",
   "nbconvert_exporter": "python",
   "pygments_lexer": "ipython3",
   "version": "3.13.2"
  }
 },
 "nbformat": 4,
 "nbformat_minor": 5
}
