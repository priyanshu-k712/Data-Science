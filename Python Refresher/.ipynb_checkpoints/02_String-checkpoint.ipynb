{
 "cells": [
  {
   "cell_type": "code",
   "execution_count": 1,
   "id": "66767b69-1962-477d-8bdd-ef0afe134202",
   "metadata": {},
   "outputs": [],
   "source": [
    "name = \"Harry\""
   ]
  },
  {
   "cell_type": "code",
   "execution_count": 2,
   "id": "390db2e1-c919-46ed-afdb-e9accbf13c9d",
   "metadata": {},
   "outputs": [
    {
     "data": {
      "text/plain": [
       "'Harry'"
      ]
     },
     "execution_count": 2,
     "metadata": {},
     "output_type": "execute_result"
    }
   ],
   "source": [
    "name"
   ]
  },
  {
   "cell_type": "code",
   "execution_count": 3,
   "id": "126ddd93-1d00-49c7-b9e7-76bb2bef6d77",
   "metadata": {},
   "outputs": [
    {
     "data": {
      "text/plain": [
       "'HARRY'"
      ]
     },
     "execution_count": 3,
     "metadata": {},
     "output_type": "execute_result"
    }
   ],
   "source": [
    "name.upper()"
   ]
  },
  {
   "cell_type": "code",
   "execution_count": 4,
   "id": "6ba0962c-cc50-4944-b712-65fda11fce8c",
   "metadata": {},
   "outputs": [
    {
     "data": {
      "text/plain": [
       "True"
      ]
     },
     "execution_count": 4,
     "metadata": {},
     "output_type": "execute_result"
    }
   ],
   "source": [
    "name.endswith(\"ry\")"
   ]
  },
  {
   "cell_type": "code",
   "execution_count": 5,
   "id": "cdc6ce5d-3964-4cf8-b752-e5552ae5d5f0",
   "metadata": {},
   "outputs": [
    {
     "data": {
      "text/plain": [
       "False"
      ]
     },
     "execution_count": 5,
     "metadata": {},
     "output_type": "execute_result"
    }
   ],
   "source": [
    "name.endswith(\"jerry\")"
   ]
  },
  {
   "cell_type": "code",
   "execution_count": 6,
   "id": "2340ed32-9e14-4af1-863a-034f850c243a",
   "metadata": {},
   "outputs": [
    {
     "data": {
      "text/plain": [
       "'harry'"
      ]
     },
     "execution_count": 6,
     "metadata": {},
     "output_type": "execute_result"
    }
   ],
   "source": [
    "name.lower()"
   ]
  },
  {
   "cell_type": "code",
   "execution_count": 7,
   "id": "94438ddc-d1af-4b87-a31b-4b5bfae358ef",
   "metadata": {},
   "outputs": [
    {
     "data": {
      "text/plain": [
       "1"
      ]
     },
     "execution_count": 7,
     "metadata": {},
     "output_type": "execute_result"
    }
   ],
   "source": [
    "name.count(\"a\")"
   ]
  },
  {
   "cell_type": "code",
   "execution_count": 8,
   "id": "e20ea889-c986-4eb7-9b79-0870e8815a15",
   "metadata": {},
   "outputs": [
    {
     "data": {
      "text/plain": [
       "2"
      ]
     },
     "execution_count": 8,
     "metadata": {},
     "output_type": "execute_result"
    }
   ],
   "source": [
    "name.count(\"r\")"
   ]
  },
  {
   "cell_type": "code",
   "execution_count": 9,
   "id": "7558d5a1-635f-4bb2-af22-47b46103b353",
   "metadata": {},
   "outputs": [
    {
     "data": {
      "text/plain": [
       "5"
      ]
     },
     "execution_count": 9,
     "metadata": {},
     "output_type": "execute_result"
    }
   ],
   "source": [
    "len(name)"
   ]
  },
  {
   "cell_type": "code",
   "execution_count": 10,
   "id": "f47b166a-7913-45e1-9914-6b6768d67367",
   "metadata": {},
   "outputs": [
    {
     "data": {
      "text/plain": [
       "'Harry'"
      ]
     },
     "execution_count": 10,
     "metadata": {},
     "output_type": "execute_result"
    }
   ],
   "source": [
    "name.strip()"
   ]
  },
  {
   "cell_type": "code",
   "execution_count": 11,
   "id": "fad205b6-c0eb-48a9-949d-3978fb8d0689",
   "metadata": {},
   "outputs": [
    {
     "data": {
      "text/plain": [
       "'Happy'"
      ]
     },
     "execution_count": 11,
     "metadata": {},
     "output_type": "execute_result"
    }
   ],
   "source": [
    "name.replace(\"rr\",\"pp\")"
   ]
  },
  {
   "cell_type": "code",
   "execution_count": 12,
   "id": "533e9584-7a94-40db-88d4-903364552636",
   "metadata": {},
   "outputs": [
    {
     "data": {
      "text/plain": [
       "'Harry'"
      ]
     },
     "execution_count": 12,
     "metadata": {},
     "output_type": "execute_result"
    }
   ],
   "source": [
    "name[0:5]"
   ]
  },
  {
   "cell_type": "code",
   "execution_count": 13,
   "id": "fb5344d7-4930-4d20-a5b1-edc84a3521e7",
   "metadata": {},
   "outputs": [
    {
     "data": {
      "text/plain": [
       "'arr'"
      ]
     },
     "execution_count": 13,
     "metadata": {},
     "output_type": "execute_result"
    }
   ],
   "source": [
    "name[1:-1] #Positive as it is add length of string to negative indices"
   ]
  },
  {
   "cell_type": "code",
   "execution_count": null,
   "id": "249d2dff-bc77-4975-9a84-2f383ac673ef",
   "metadata": {},
   "outputs": [],
   "source": []
  }
 ],
 "metadata": {
  "kernelspec": {
   "display_name": "Python 3 (ipykernel)",
   "language": "python",
   "name": "python3"
  },
  "language_info": {
   "codemirror_mode": {
    "name": "ipython",
    "version": 3
   },
   "file_extension": ".py",
   "mimetype": "text/x-python",
   "name": "python",
   "nbconvert_exporter": "python",
   "pygments_lexer": "ipython3",
   "version": "3.13.2"
  }
 },
 "nbformat": 4,
 "nbformat_minor": 5
}
