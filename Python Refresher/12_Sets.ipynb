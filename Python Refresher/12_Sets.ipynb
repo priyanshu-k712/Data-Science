{
 "cells": [
  {
   "cell_type": "markdown",
   "id": "6595aedc-06ad-49d8-afab-366c928d094b",
   "metadata": {},
   "source": [
    "***Unordered, Mutable and Unique collection of elements***"
   ]
  },
  {
   "cell_type": "code",
   "execution_count": 1,
   "id": "f6f5ae0c-0524-4bd7-8d14-93853bbcd728",
   "metadata": {},
   "outputs": [
    {
     "data": {
      "text/plain": [
       "dict"
      ]
     },
     "execution_count": 1,
     "metadata": {},
     "output_type": "execute_result"
    }
   ],
   "source": [
    "a = {}\n",
    "type(a)"
   ]
  },
  {
   "cell_type": "code",
   "execution_count": 2,
   "id": "9134d061-a045-47c9-bb8e-388ddb601819",
   "metadata": {},
   "outputs": [
    {
     "data": {
      "text/plain": [
       "set"
      ]
     },
     "execution_count": 2,
     "metadata": {},
     "output_type": "execute_result"
    }
   ],
   "source": [
    "b = set()\n",
    "type(b)"
   ]
  },
  {
   "cell_type": "code",
   "execution_count": 3,
   "id": "33b3e5c7-0208-4f4a-aaa5-9eb9cbe9f282",
   "metadata": {},
   "outputs": [
    {
     "data": {
      "text/plain": [
       "{2, 4, 5, 7, 8, 9, 88}"
      ]
     },
     "execution_count": 3,
     "metadata": {},
     "output_type": "execute_result"
    }
   ],
   "source": [
    "s = set()\n",
    "s = {4,2,5,7,7,8,9,8,8,88}\n",
    "s"
   ]
  },
  {
   "cell_type": "code",
   "execution_count": 4,
   "id": "98699a86-1e46-4160-ab03-436f28828869",
   "metadata": {},
   "outputs": [
    {
     "data": {
      "text/plain": [
       "{2, 4, 5, 7, 8, 9, 34, 88}"
      ]
     },
     "execution_count": 4,
     "metadata": {},
     "output_type": "execute_result"
    }
   ],
   "source": [
    "s.add(34)\n",
    "s"
   ]
  },
  {
   "cell_type": "code",
   "execution_count": 5,
   "id": "6ae8cade-5514-42c0-a5ff-dd6849b22524",
   "metadata": {},
   "outputs": [
    {
     "data": {
      "text/plain": [
       "{2, 3, 4, 5, 7, 8, 9, 34, 67, 88, 89}"
      ]
     },
     "execution_count": 5,
     "metadata": {},
     "output_type": "execute_result"
    }
   ],
   "source": [
    "s.update([4,3,89,67])\n",
    "s"
   ]
  },
  {
   "cell_type": "code",
   "execution_count": 6,
   "id": "058bccff-0295-4ef0-b6f3-58b9720198b0",
   "metadata": {},
   "outputs": [
    {
     "name": "stdout",
     "output_type": "stream",
     "text": [
      "{2, 4, 5, 67, 7, 8, 9, 88, 89, 34}\n"
     ]
    }
   ],
   "source": [
    "s.remove(3)\n",
    "print(s)"
   ]
  },
  {
   "cell_type": "code",
   "execution_count": 7,
   "id": "db152274-4035-4bac-bd0a-4bdc67200efd",
   "metadata": {},
   "outputs": [
    {
     "name": "stdout",
     "output_type": "stream",
     "text": [
      "{2, 5, 67, 7, 8, 9, 88, 89, 34}\n"
     ]
    }
   ],
   "source": [
    "s.discard(4)\n",
    "s.discard(4) #This doesn't raise an error, If remove was used then it wouuld raise an error here\n",
    "print(s)"
   ]
  },
  {
   "cell_type": "code",
   "execution_count": 8,
   "id": "5a05a796-4932-4cbb-bb3d-95f6110fd42d",
   "metadata": {},
   "outputs": [
    {
     "name": "stdout",
     "output_type": "stream",
     "text": [
      "2\n",
      "{5, 67, 7, 8, 9, 88, 89, 34}\n"
     ]
    }
   ],
   "source": [
    "num = s.pop() #Remove and return a random element\n",
    "print(num)\n",
    "print(s)"
   ]
  },
  {
   "cell_type": "code",
   "execution_count": 9,
   "id": "18d9dc61-7a0a-406c-a578-a41c0eeb60f1",
   "metadata": {},
   "outputs": [
    {
     "name": "stdout",
     "output_type": "stream",
     "text": [
      "{1, 4, 5, 6, 7}\n",
      "set()\n"
     ]
    }
   ],
   "source": [
    "a = set()\n",
    "a = {1,4,5,6,7,4}\n",
    "print(a)\n",
    "a.clear()\n",
    "print(a)"
   ]
  },
  {
   "cell_type": "code",
   "execution_count": 10,
   "id": "b4be813a-a487-49b5-b081-1c902c6ddc09",
   "metadata": {},
   "outputs": [
    {
     "name": "stdout",
     "output_type": "stream",
     "text": [
      "{34, 67, 5, 7, 8, 9, 88, 89}\n",
      "<class 'set'>\n"
     ]
    }
   ],
   "source": [
    "b = s.copy()\n",
    "print(b)\n",
    "print(type(b))\n"
   ]
  },
  {
   "cell_type": "code",
   "execution_count": 11,
   "id": "0c18f726-3c7f-43c6-81a9-cbfbdc20ca79",
   "metadata": {},
   "outputs": [
    {
     "name": "stdout",
     "output_type": "stream",
     "text": [
      "{1, 2, 3, 4} {1, 2, 5, 6, 7}\n"
     ]
    }
   ],
   "source": [
    "set1 = {1,2,3,4}\n",
    "set2 = {1,2,5,6,7}\n",
    "print(set1, set2)"
   ]
  },
  {
   "cell_type": "code",
   "execution_count": 12,
   "id": "abaebbad-8d09-4cb3-9c61-eed40d9f1220",
   "metadata": {},
   "outputs": [
    {
     "data": {
      "text/plain": [
       "{1, 2, 3, 4, 5, 6, 7}"
      ]
     },
     "execution_count": 12,
     "metadata": {},
     "output_type": "execute_result"
    }
   ],
   "source": [
    "set1.union(set2)"
   ]
  },
  {
   "cell_type": "code",
   "execution_count": 13,
   "id": "1c08cc15-794b-488f-b6bf-c2d2b6a3e217",
   "metadata": {},
   "outputs": [
    {
     "name": "stdout",
     "output_type": "stream",
     "text": [
      "<class 'set'>\n",
      "<class 'set'>\n"
     ]
    }
   ],
   "source": [
    "print(type(set1))\n",
    "print(type(set2))"
   ]
  },
  {
   "cell_type": "code",
   "execution_count": 14,
   "id": "250674ed-0aa0-4c64-8819-ba341c009eb2",
   "metadata": {},
   "outputs": [
    {
     "data": {
      "text/plain": [
       "{1, 2}"
      ]
     },
     "execution_count": 14,
     "metadata": {},
     "output_type": "execute_result"
    }
   ],
   "source": [
    "set1.intersection(set2)"
   ]
  },
  {
   "cell_type": "code",
   "execution_count": 15,
   "id": "4e4da6b5-e7d0-4b2e-a13a-774dad51345c",
   "metadata": {},
   "outputs": [
    {
     "data": {
      "text/plain": [
       "False"
      ]
     },
     "execution_count": 15,
     "metadata": {},
     "output_type": "execute_result"
    }
   ],
   "source": [
    "set1.issubset(set2)"
   ]
  },
  {
   "cell_type": "code",
   "execution_count": 16,
   "id": "618ad503-233b-4732-82d8-d74b674c6bd4",
   "metadata": {},
   "outputs": [
    {
     "data": {
      "text/plain": [
       "True"
      ]
     },
     "execution_count": 16,
     "metadata": {},
     "output_type": "execute_result"
    }
   ],
   "source": [
    "set3 = {1,2}\n",
    "set3.issubset(set1)"
   ]
  },
  {
   "cell_type": "code",
   "execution_count": 17,
   "id": "4b0eac7b-31ef-4c99-b229-0e1fc7c77ddd",
   "metadata": {},
   "outputs": [
    {
     "data": {
      "text/plain": [
       "True"
      ]
     },
     "execution_count": 17,
     "metadata": {},
     "output_type": "execute_result"
    }
   ],
   "source": [
    "set1.issuperset(set3)"
   ]
  },
  {
   "cell_type": "code",
   "execution_count": 18,
   "id": "4a45c5ec-6454-4a33-92fc-2dd543fd5cf7",
   "metadata": {},
   "outputs": [
    {
     "data": {
      "text/plain": [
       "{3, 4}"
      ]
     },
     "execution_count": 18,
     "metadata": {},
     "output_type": "execute_result"
    }
   ],
   "source": [
    "set1.difference(set2)"
   ]
  },
  {
   "cell_type": "code",
   "execution_count": 19,
   "id": "b3de7dec-8e63-491f-b74d-e740b6bba639",
   "metadata": {},
   "outputs": [
    {
     "data": {
      "text/plain": [
       "{3, 4, 5, 6, 7}"
      ]
     },
     "execution_count": 19,
     "metadata": {},
     "output_type": "execute_result"
    }
   ],
   "source": [
    "set1.symmetric_difference(set2)"
   ]
  },
  {
   "cell_type": "code",
   "execution_count": null,
   "id": "d64b3329-d9f7-4e7f-8843-9e4547232dc9",
   "metadata": {},
   "outputs": [],
   "source": []
  }
 ],
 "metadata": {
  "kernelspec": {
   "display_name": "Python 3 (ipykernel)",
   "language": "python",
   "name": "python3"
  },
  "language_info": {
   "codemirror_mode": {
    "name": "ipython",
    "version": 3
   },
   "file_extension": ".py",
   "mimetype": "text/x-python",
   "name": "python",
   "nbconvert_exporter": "python",
   "pygments_lexer": "ipython3",
   "version": "3.13.2"
  }
 },
 "nbformat": 4,
 "nbformat_minor": 5
}
