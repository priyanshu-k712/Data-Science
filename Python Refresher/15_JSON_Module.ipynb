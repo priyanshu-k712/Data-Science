{
 "cells": [
  {
   "cell_type": "code",
   "execution_count": 1,
   "id": "aeaf1db8-3875-4772-af38-a56e0f4fcfab",
   "metadata": {},
   "outputs": [],
   "source": [
    "import json"
   ]
  },
  {
   "cell_type": "code",
   "execution_count": 2,
   "id": "35c83700-d500-4b1a-8293-8a3fa4905cab",
   "metadata": {},
   "outputs": [
    {
     "data": {
      "text/plain": [
       "'{\\n    \"name\": \"Alice\",\\n    \"company\": \"IBM\",\\n    \"salary\": 45000\\n}'"
      ]
     },
     "execution_count": 2,
     "metadata": {},
     "output_type": "execute_result"
    }
   ],
   "source": [
    "obj = {\n",
    "    \"name\": \"Alice\",\n",
    "    \"company\": \"IBM\",\n",
    "    \"salary\": 45000\n",
    "}\n",
    "json.dumps(obj, indent=4)"
   ]
  },
  {
   "cell_type": "code",
   "execution_count": 3,
   "id": "34378687-3c4c-476c-b179-ffab4defee0b",
   "metadata": {},
   "outputs": [],
   "source": [
    "d = json.loads('{\"name\": \"Alice\",\"company\": \"IBM\",\"salary\": 45000}')"
   ]
  },
  {
   "cell_type": "code",
   "execution_count": 4,
   "id": "7fefb5b5-d51f-4e55-94b5-7f3d6bfd308b",
   "metadata": {},
   "outputs": [
    {
     "name": "stdout",
     "output_type": "stream",
     "text": [
      "{'name': 'Alice', 'company': 'IBM', 'salary': 45000}\n",
      "<class 'dict'>\n"
     ]
    }
   ],
   "source": [
    "print(d)\n",
    "print(type(d))"
   ]
  },
  {
   "cell_type": "code",
   "execution_count": 5,
   "id": "beedd9f0-623b-4118-abf0-0ea47d551457",
   "metadata": {},
   "outputs": [],
   "source": [
    "file = open(\"data.json\", \"w\")\n",
    "json.dump(obj,file)"
   ]
  },
  {
   "cell_type": "code",
   "execution_count": null,
   "id": "3f436bdd-47b7-41c1-9f60-71c5ce414d6d",
   "metadata": {},
   "outputs": [],
   "source": []
  }
 ],
 "metadata": {
  "kernelspec": {
   "display_name": "Python 3 (ipykernel)",
   "language": "python",
   "name": "python3"
  },
  "language_info": {
   "codemirror_mode": {
    "name": "ipython",
    "version": 3
   },
   "file_extension": ".py",
   "mimetype": "text/x-python",
   "name": "python",
   "nbconvert_exporter": "python",
   "pygments_lexer": "ipython3",
   "version": "3.13.2"
  }
 },
 "nbformat": 4,
 "nbformat_minor": 5
}
