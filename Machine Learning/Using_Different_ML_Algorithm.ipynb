{
 "cells": [
  {
   "cell_type": "markdown",
   "id": "e49123f4-87c5-46bd-a08f-5e0433644452",
   "metadata": {},
   "source": [
    "**Predicting if the fruit is an apple or an orange**"
   ]
  },
  {
   "cell_type": "code",
   "execution_count": 1,
   "id": "002ce09c-1eff-4e1e-a8f1-04d6a6d476b8",
   "metadata": {},
   "outputs": [],
   "source": [
    "from sklearn.ensemble import RandomForestClassifier"
   ]
  },
  {
   "cell_type": "code",
   "execution_count": 2,
   "id": "1c91a221-1f0f-4b0c-b689-07f04d1604b7",
   "metadata": {},
   "outputs": [],
   "source": [
    "features = [ #Features: [weight(in grams), (0=red or 1=orange)]\n",
    "    [150,0],\n",
    "    [170, 0],\n",
    "    [130,0],\n",
    "    [120, 1]\n",
    "]\n",
    "laebls = [\"apple\", \"apple\", \"orange\", \"orange\"]"
   ]
  },
  {
   "cell_type": "code",
   "execution_count": 3,
   "id": "8ba8321f-979d-447b-aa82-18cbb639fcd0",
   "metadata": {},
   "outputs": [],
   "source": [
    "clf = RandomForestClassifier() #instance\n",
    "clf = clf.fit(features, laebls) #fitting Data"
   ]
  },
  {
   "cell_type": "code",
   "execution_count": 4,
   "id": "e2fd3b7c-2631-4017-8956-1e9c01eb2aa3",
   "metadata": {},
   "outputs": [
    {
     "name": "stdout",
     "output_type": "stream",
     "text": [
      "The fruit is apple\n"
     ]
    }
   ],
   "source": [
    "prediction = clf.predict([[150, 1]]) #Predicting based on data fed\n",
    "print(f\"The fruit is {prediction[0]}\")"
   ]
  }
 ],
 "metadata": {
  "kernelspec": {
   "display_name": "Python 3 (ipykernel)",
   "language": "python",
   "name": "python3"
  },
  "language_info": {
   "codemirror_mode": {
    "name": "ipython",
    "version": 3
   },
   "file_extension": ".py",
   "mimetype": "text/x-python",
   "name": "python",
   "nbconvert_exporter": "python",
   "pygments_lexer": "ipython3",
   "version": "3.13.2"
  }
 },
 "nbformat": 4,
 "nbformat_minor": 5
}
