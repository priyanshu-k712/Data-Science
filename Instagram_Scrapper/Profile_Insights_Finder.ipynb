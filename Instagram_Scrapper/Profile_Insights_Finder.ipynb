{
 "cells": [
  {
   "cell_type": "code",
   "execution_count": 1,
   "id": "78f0b7e5-14b0-418c-9db1-412d5fca5a8e",
   "metadata": {},
   "outputs": [],
   "source": [
    "import requests\n",
    "from bs4 import BeautifulSoup\n",
    "import pandas as pd\n",
    "import os"
   ]
  },
  {
   "cell_type": "code",
   "execution_count": 2,
   "id": "af8b5014-184d-41cb-a08b-926030375a76",
   "metadata": {
    "scrolled": true
   },
   "outputs": [
    {
     "name": "stdin",
     "output_type": "stream",
     "text": [
      "Enter the username you want to scrap the data for: akshaykumar\n"
     ]
    }
   ],
   "source": [
    "username = input(\"Enter the username you want to scrap the data for:\")\n",
    "response = requests.get(f\"https://www.instagram.com/{username}\")"
   ]
  },
  {
   "cell_type": "code",
   "execution_count": 3,
   "id": "1fe897df-a120-4b77-92b9-4a3e15f5608d",
   "metadata": {},
   "outputs": [],
   "source": [
    "with open(\"HTMLs/page.html\", \"w\", encoding='utf-8') as f:\n",
    "    f.write(response.text)"
   ]
  },
  {
   "cell_type": "code",
   "execution_count": 4,
   "id": "4d0a1a21-13bd-4525-ae92-586381a3acff",
   "metadata": {
    "scrolled": true
   },
   "outputs": [],
   "source": [
    "with open(\"HTMLs/page.html\") as f:\n",
    "    content = f.read()\n",
    "soup = BeautifulSoup(content, \"html.parser\")"
   ]
  },
  {
   "cell_type": "code",
   "execution_count": 5,
   "id": "d7d7d86f-9dd1-4a6b-b347-1f75e04d0662",
   "metadata": {},
   "outputs": [],
   "source": [
    "meta_tag = soup.find(\"meta\", attrs={\"property\":\"og:description\"})"
   ]
  },
  {
   "cell_type": "code",
   "execution_count": 6,
   "id": "f642f9b6-40a5-403c-b93e-b6d8ddb482c3",
   "metadata": {},
   "outputs": [
    {
     "data": {
      "text/plain": [
       "['akshaykumar', '67M Followers', '7 Following', '2,410 Posts']"
      ]
     },
     "execution_count": 6,
     "metadata": {},
     "output_type": "execute_result"
    }
   ],
   "source": [
    "data = meta_tag.get(\"content\")\n",
    "data = data[:data.index(\"Posts\")+5]\n",
    "data = username+\", \"+data\n",
    "data = data.split(\", \")\n",
    "data"
   ]
  },
  {
   "cell_type": "code",
   "execution_count": 7,
   "id": "d93ca895-9ef3-42b9-831f-e1f9519edc42",
   "metadata": {},
   "outputs": [
    {
     "data": {
      "text/html": [
       "<div>\n",
       "<style scoped>\n",
       "    .dataframe tbody tr th:only-of-type {\n",
       "        vertical-align: middle;\n",
       "    }\n",
       "\n",
       "    .dataframe tbody tr th {\n",
       "        vertical-align: top;\n",
       "    }\n",
       "\n",
       "    .dataframe thead th {\n",
       "        text-align: right;\n",
       "    }\n",
       "</style>\n",
       "<table border=\"1\" class=\"dataframe\">\n",
       "  <thead>\n",
       "    <tr style=\"text-align: right;\">\n",
       "      <th></th>\n",
       "      <th>Username</th>\n",
       "      <th>Followers</th>\n",
       "      <th>Following</th>\n",
       "      <th>Posts</th>\n",
       "    </tr>\n",
       "  </thead>\n",
       "  <tbody>\n",
       "    <tr>\n",
       "      <th>0</th>\n",
       "      <td>akshaykumar</td>\n",
       "      <td>67M</td>\n",
       "      <td>7</td>\n",
       "      <td>2,410</td>\n",
       "    </tr>\n",
       "  </tbody>\n",
       "</table>\n",
       "</div>"
      ],
      "text/plain": [
       "      Username Followers Following  Posts\n",
       "0  akshaykumar       67M         7  2,410"
      ]
     },
     "execution_count": 7,
     "metadata": {},
     "output_type": "execute_result"
    }
   ],
   "source": [
    "dictionary = {\n",
    "    \"Username\": [data[0]],\n",
    "    \"Followers\": [(data[1].replace(\" Followers\", \"\"))],\n",
    "    \"Following\": [(data[2].replace(\" Following\", \"\"))],\n",
    "    \"Posts\": [(data[3].replace(\" Posts\", \"\"))]\n",
    "}\n",
    "\n",
    "df = pd.DataFrame(dictionary)\n",
    "df"
   ]
  },
  {
   "cell_type": "code",
   "execution_count": 8,
   "id": "5f0b7aa8-2274-4113-b8e6-c4974dcc83b4",
   "metadata": {},
   "outputs": [],
   "source": [
    "if not os.path.exists(\"data.csv\"):\n",
    "    df.to_csv(\"data.csv\", index=False, mode=\"w\", header=True)\n",
    "else:\n",
    "    df.to_csv(\"data.csv\", index=False, mode=\"a\", header=False)\n"
   ]
  }
 ],
 "metadata": {
  "kernelspec": {
   "display_name": "Python 3 (ipykernel)",
   "language": "python",
   "name": "python3"
  },
  "language_info": {
   "codemirror_mode": {
    "name": "ipython",
    "version": 3
   },
   "file_extension": ".py",
   "mimetype": "text/x-python",
   "name": "python",
   "nbconvert_exporter": "python",
   "pygments_lexer": "ipython3",
   "version": "3.13.2"
  }
 },
 "nbformat": 4,
 "nbformat_minor": 5
}
