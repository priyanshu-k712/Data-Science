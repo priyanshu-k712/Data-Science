{
 "cells": [
  {
   "cell_type": "code",
   "execution_count": 1,
   "id": "a86af943-bbaf-4bc6-866c-6aece2e00d29",
   "metadata": {},
   "outputs": [],
   "source": [
    "import requests\n",
    "from bs4 import BeautifulSoup\n",
    "import pandas as pd\n",
    "import os"
   ]
  },
  {
   "cell_type": "code",
   "execution_count": 2,
   "id": "15de987c-1d8a-40a6-9fa7-674964a7b86c",
   "metadata": {},
   "outputs": [
    {
     "name": "stdin",
     "output_type": "stream",
     "text": [
      "Enter the link of the post https://www.instagram.com/p/DLP8PgENpys/\n"
     ]
    }
   ],
   "source": [
    "link = input(\"Enter the link of the post\")\n",
    "response = requests.get(link)"
   ]
  },
  {
   "cell_type": "code",
   "execution_count": 3,
   "id": "fe5a8f39-6a65-47af-9058-5aed66ffafcc",
   "metadata": {},
   "outputs": [],
   "source": [
    "with open(\"HTMLs/post.html\", \"w\", encoding='utf-8') as f:\n",
    "    f.write(response.text)"
   ]
  },
  {
   "cell_type": "code",
   "execution_count": 4,
   "id": "63e59237-e0eb-4ced-aa7a-16232ad2fdc5",
   "metadata": {},
   "outputs": [],
   "source": [
    "with open(\"HTMLs/post.html\") as f:\n",
    "    content = f.read()\n",
    "soup = BeautifulSoup(content, \"html.parser\")"
   ]
  },
  {
   "cell_type": "code",
   "execution_count": 5,
   "id": "33e5e07f-2a5a-430c-b11b-e6ed4be1a46d",
   "metadata": {},
   "outputs": [
    {
     "data": {
      "text/plain": [
       "['234K likes', '651']"
      ]
     },
     "execution_count": 5,
     "metadata": {},
     "output_type": "execute_result"
    }
   ],
   "source": [
    "meta = soup.find(\"meta\", attrs={\"name\": \"description\"})\n",
    "data = meta.get(\"content\")\n",
    "data = data.split('\\n')[0].split('comments')[0].strip()\n",
    "data = data.split(\", \")\n",
    "data"
   ]
  },
  {
   "cell_type": "code",
   "execution_count": 6,
   "id": "dc2b604c-2b4a-4647-abda-1da53f3600af",
   "metadata": {},
   "outputs": [
    {
     "data": {
      "text/plain": [
       "{'Post': ['https://www.instagram.com/p/DLP8PgENpys/'],\n",
       " 'Likes': ['234K '],\n",
       " 'Comments': ['651']}"
      ]
     },
     "execution_count": 6,
     "metadata": {},
     "output_type": "execute_result"
    }
   ],
   "source": [
    "dictionary = {\n",
    "    \"Post\": [link],\n",
    "    \"Likes\": [data[0].replace(\"likes\", \"\")],\n",
    "    \"Comments\": [data[1]]\n",
    "}\n",
    "dictionary"
   ]
  },
  {
   "cell_type": "code",
   "execution_count": 7,
   "id": "f92a6afc-36e2-47c7-a37e-ec81d155e7a9",
   "metadata": {},
   "outputs": [
    {
     "data": {
      "text/html": [
       "<div>\n",
       "<style scoped>\n",
       "    .dataframe tbody tr th:only-of-type {\n",
       "        vertical-align: middle;\n",
       "    }\n",
       "\n",
       "    .dataframe tbody tr th {\n",
       "        vertical-align: top;\n",
       "    }\n",
       "\n",
       "    .dataframe thead th {\n",
       "        text-align: right;\n",
       "    }\n",
       "</style>\n",
       "<table border=\"1\" class=\"dataframe\">\n",
       "  <thead>\n",
       "    <tr style=\"text-align: right;\">\n",
       "      <th></th>\n",
       "      <th>Post</th>\n",
       "      <th>Likes</th>\n",
       "      <th>Comments</th>\n",
       "    </tr>\n",
       "  </thead>\n",
       "  <tbody>\n",
       "    <tr>\n",
       "      <th>0</th>\n",
       "      <td>https://www.instagram.com/p/DLP8PgENpys/</td>\n",
       "      <td>234K</td>\n",
       "      <td>651</td>\n",
       "    </tr>\n",
       "  </tbody>\n",
       "</table>\n",
       "</div>"
      ],
      "text/plain": [
       "                                       Post  Likes Comments\n",
       "0  https://www.instagram.com/p/DLP8PgENpys/  234K       651"
      ]
     },
     "execution_count": 7,
     "metadata": {},
     "output_type": "execute_result"
    }
   ],
   "source": [
    "df = pd.DataFrame(dictionary)\n",
    "df"
   ]
  },
  {
   "cell_type": "code",
   "execution_count": 8,
   "id": "d0dc6c92-e355-41fd-b876-9ac92ef15956",
   "metadata": {},
   "outputs": [],
   "source": [
    "if not os.path.exists(\"postdata.csv\"):\n",
    "    df.to_csv(\"postdata.csv\", index=False, mode=\"w\", header=True)\n",
    "else:\n",
    "    df.to_csv(\"postdata.csv\", index=False, mode=\"a\", header=False)\n"
   ]
  }
 ],
 "metadata": {
  "kernelspec": {
   "display_name": "Python 3 (ipykernel)",
   "language": "python",
   "name": "python3"
  },
  "language_info": {
   "codemirror_mode": {
    "name": "ipython",
    "version": 3
   },
   "file_extension": ".py",
   "mimetype": "text/x-python",
   "name": "python",
   "nbconvert_exporter": "python",
   "pygments_lexer": "ipython3",
   "version": "3.13.2"
  }
 },
 "nbformat": 4,
 "nbformat_minor": 5
}
