{
 "cells": [
  {
   "cell_type": "code",
   "execution_count": 1,
   "id": "fd193b94-736f-4532-8676-acb3d7ee2787",
   "metadata": {},
   "outputs": [],
   "source": [
    "import requests"
   ]
  },
  {
   "cell_type": "code",
   "execution_count": 2,
   "id": "306bfa57-d6fa-4c1d-845e-edd6caae91a5",
   "metadata": {},
   "outputs": [
    {
     "name": "stdout",
     "output_type": "stream",
     "text": [
      "Page39 Written successfully\n",
      "Page40 Written successfully\n",
      "Page41 Written successfully\n",
      "Page42 Written successfully\n",
      "Page43 Written successfully\n",
      "Page44 Written successfully\n",
      "Page45 Written successfully\n",
      "Page46 Written successfully\n",
      "Page47 Written successfully\n",
      "Page48 Written successfully\n",
      "Page49 Written successfully\n",
      "Page50 Written successfully\n"
     ]
    }
   ],
   "source": [
    "for i in range(39,51):\n",
    "    response = requests.get(f\"https://books.toscrape.com/catalogue/page-{i}.html\")\n",
    "    with open(f\"HTMLs/page{i}.html\", \"w\", encoding=\"utf-8\") as f:\n",
    "        f.write(response.text)\n",
    "    print(f\"Page{i} Written successfully\")"
   ]
  },
  {
   "cell_type": "code",
   "execution_count": null,
   "id": "c7c67eca-9daa-40ec-9fd4-7aef5e2f968c",
   "metadata": {},
   "outputs": [],
   "source": []
  }
 ],
 "metadata": {
  "kernelspec": {
   "display_name": "Python 3 (ipykernel)",
   "language": "python",
   "name": "python3"
  },
  "language_info": {
   "codemirror_mode": {
    "name": "ipython",
    "version": 3
   },
   "file_extension": ".py",
   "mimetype": "text/x-python",
   "name": "python",
   "nbconvert_exporter": "python",
   "pygments_lexer": "ipython3",
   "version": "3.13.2"
  }
 },
 "nbformat": 4,
 "nbformat_minor": 5
}
