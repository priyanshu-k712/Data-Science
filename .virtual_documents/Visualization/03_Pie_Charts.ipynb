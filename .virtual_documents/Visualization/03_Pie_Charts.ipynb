import matplotlib.pyplot as plt


plt.style.use("ggplot")


# Data
labels = ["Sachin", "Sehwag", "Kohli", "Yuvraj"]
runs = [18000, 8000, 12000, 9500]

plt.title("Career Runs of Indian Batsmen")
plt.pie(runs, labels=labels)
plt.show()


colors = ['#ff9999','#66b3ff','#99ff99','#ffcc99']
plt.pie(runs, labels=labels, colors=colors)
plt.show()


plt.pie(
    runs,
    labels=labels,
    colors=colors,
    wedgeprops={'edgecolor': 'black', 'linewidth': 2.5, 'linestyle': '--'}
)
plt.show()


explode = [0.1, 0, 0, 0]
plt.pie(runs, labels = labels, explode=explode)
plt.show()


explode = [0.1, 0, 0, 0]
plt.pie(runs, labels = labels, explode=explode, startangle=140)
plt.show()


explode = [0.1, 0, 0, 0]
plt.pie(runs, labels = labels, explode=explode, autopct="%1.1f%%")
plt.show()



